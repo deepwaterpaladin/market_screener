{
 "cells": [
  {
   "cell_type": "code",
   "execution_count": 3,
   "metadata": {},
   "outputs": [],
   "source": [
    "from Screener import Screener\n",
    "\n",
    "path = '../data/cleaned_tickers.json'"
   ]
  },
  {
   "cell_type": "code",
   "execution_count": 4,
   "metadata": {},
   "outputs": [
    {
     "name": "stdout",
     "output_type": "stream",
     "text": [
      "4908 Tickers to be screened for step check \"Has Dividends or Buybacks\".\n",
      "Processing: 25% complete\n",
      "Processing: 25% complete\n",
      "Processing: 50% complete\n"
     ]
    },
    {
     "name": "stderr",
     "output_type": "stream",
     "text": [
      "CVNA: No price data found, symbol may be delisted (1d 1925-03-03 -> 2024-02-08)\n",
      "9972.T: No price data found, symbol may be delisted (1d 1925-03-04 -> 2024-02-09)\n",
      "MOG: No price data found, symbol may be delisted (1d 1925-03-03 -> 2024-02-08)\n",
      "MOG: No price data found, symbol may be delisted (1d 1925-03-03 -> 2024-02-08)\n"
     ]
    },
    {
     "name": "stdout",
     "output_type": "stream",
     "text": [
      "Processing: 75% complete\n"
     ]
    },
    {
     "name": "stderr",
     "output_type": "stream",
     "text": [
      "MTA.TO: No price data found, symbol may be delisted (1d 1925-03-03 -> 2024-02-08)\n",
      "MTA.TO: No price data found, symbol may be delisted (1d 1925-03-03 -> 2024-02-08)\n",
      "RIO.TO: No price data found, symbol may be delisted (1d 1925-03-03 -> 2024-02-08)\n",
      "RIO.TO: No price data found, symbol may be delisted (1d 1925-03-03 -> 2024-02-08)\n"
     ]
    },
    {
     "name": "stdout",
     "output_type": "stream",
     "text": [
      "Time to check dividends: 0:25:56.154776\n",
      "Processing: 100% complete\n",
      "Time to check dividends: 0:26:51.792142\n",
      "2394 Tickers to be screened for step check \"Market Cap <= NCAV\".\n",
      "Time to check dividends: 0:27:09.335833\n",
      "Processing: 50% complete\n",
      "Time to check dividends: 0:29:57.299597\n",
      "Processing: 50% complete\n",
      "Processing: 100% complete\n",
      "Time to check Market Cap <= NCAV: 0:09:01.785645\n",
      "71 Tickers to be screened for step check \"Net Debt\".\n",
      "Time to check Net Debt: 0:00:14.766248\n",
      "55 Tickers to be screened for step check \"5Y average yield > 10%\".\n",
      "Time to check '5Y average yield > 10%': 0:00:17.479883\n",
      "Time to check Market Cap <= NCAV: 0:12:00.576204\n",
      "Time to check Net Debt: 0:00:05.363719\n",
      "Time to check '5Y average yield > 10%': 0:00:03.705160\n",
      "Processing: 75% complete\n",
      "Time to check Market Cap <= NCAV: 0:16:54.673086\n",
      "Time to check Net Debt: 0:00:07.306877\n",
      "Time to check '5Y average yield > 10%': 0:00:04.045619\n"
     ]
    },
    {
     "name": "stderr",
     "output_type": "stream",
     "text": [
      "AVES: No price data found, symbol may be delisted (1d 1925-03-03 -> 2024-02-08)\n"
     ]
    },
    {
     "name": "stdout",
     "output_type": "stream",
     "text": [
      "Time to check Market Cap <= NCAV: 0:25:17.804832\n",
      "Time to check dividends: 0:52:01.922693\n",
      "Time to check Net Debt: 0:00:51.046177\n",
      "Time to check '5Y average yield > 10%': 0:00:30.132531\n",
      "Total run time 0:52:35.161792\n"
     ]
    }
   ],
   "source": [
    "s = Screener(path)\n",
    "s.run_fully_threaded(thread_sum = 4, debug=True)"
   ]
  },
  {
   "cell_type": "code",
   "execution_count": 5,
   "metadata": {},
   "outputs": [
    {
     "data": {
      "text/plain": [
       "22"
      ]
     },
     "execution_count": 5,
     "metadata": {},
     "output_type": "execute_result"
    }
   ],
   "source": [
    "len(s.results)"
   ]
  },
  {
   "cell_type": "code",
   "execution_count": 6,
   "metadata": {},
   "outputs": [
    {
     "name": "stdout",
     "output_type": "stream",
     "text": [
      "File saved to ../output/first_threaded_run.xlsx\n"
     ]
    }
   ],
   "source": [
    "s.create_xlsx('../output/first_threaded_run.xlsx')"
   ]
  }
 ],
 "metadata": {
  "kernelspec": {
   "display_name": "Python 3",
   "language": "python",
   "name": "python3"
  },
  "language_info": {
   "codemirror_mode": {
    "name": "ipython",
    "version": 3
   },
   "file_extension": ".py",
   "mimetype": "text/x-python",
   "name": "python",
   "nbconvert_exporter": "python",
   "pygments_lexer": "ipython3",
   "version": "3.9.7"
  }
 },
 "nbformat": 4,
 "nbformat_minor": 2
}
