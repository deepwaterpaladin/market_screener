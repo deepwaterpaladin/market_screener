{
 "cells": [
  {
   "cell_type": "code",
   "execution_count": 1,
   "metadata": {},
   "outputs": [],
   "source": [
    "from Screener import Screener\n",
    "import pandas as pd\n",
    "\n",
    "pd.set_option('display.float_format', lambda x: '%.3f' % x)\n",
    "\n",
    "path = '../data/cleaned_tickers.json'"
   ]
  },
  {
   "cell_type": "code",
   "execution_count": 4,
   "metadata": {},
   "outputs": [],
   "source": [
    "d = Screener(path)\n",
    "d.tickers\n",
    "m = {'Japan': ['7203.T',\n",
    "  '6758.T',\n",
    "  '8306.T',\n",
    "  '6861.T',\n",
    "  '9432.T',\n",
    "  '8035.T',\n",
    "  '9983.T',\n",
    "  '4063.T',\n",
    "  '6501.T',\n",
    "  '9433.T',\n",
    "  '8058.T',\n",
    "  '8316.T',\n",
    "  '8001.T',\n",
    "  '7974.T',\n",
    "  '6098.T',\n",
    "  '9434.T',\n",
    "  '4661.T',\n",
    "  '7267.T',\n",
    "  '4568.T',\n",
    "  '8031.T',\n",
    "  '4519.T',\n",
    "  '9984.T']}\n",
    "ret_dict = {'7203.T':{\"Name\":str, \"HQ Location\":str, \"Has Dividends or Buybacks\": bool, \"Net Debt\": float, \"5Y average yield > 10%\": bool, \"Market Cap <= NCAV\": bool}}\n",
    "d.screen_five_year_yield(m)"
   ]
  },
  {
   "cell_type": "code",
   "execution_count": 2,
   "metadata": {},
   "outputs": [
    {
     "name": "stdout",
     "output_type": "stream",
     "text": [
      "19632 Tickers to be screened for step check \"Has Dividends\".\n",
      "Processing: 25% complete\n",
      "Processing: 50% complete\n",
      "Processing: 75% complete\n",
      "Processing: 100% complete\n",
      "Time to check dividends: 1:32:28.807394\n",
      "12734 Tickers to be screened for step check \"Market Cap <= NCAV\".\n",
      "Processing: 50% complete\n",
      "Processing: 100% complete\n",
      "Time to check Market Cap <= NCAV: 1:06:31.668494\n",
      "356 Tickers to be screened for step check \"Net Debt\".\n",
      "Time to check Net Debt: 0:01:21.480518\n",
      "264 Tickers to be screened for step check \"5Y average yield > 10%\".\n",
      "Time to check '5Y average yield > 10%': 0:00:00.006394\n",
      "Total run time -1 day, 21:19:37.964647\n"
     ]
    }
   ],
   "source": [
    "s = Screener(path)\n",
    "s.run(debug=True)"
   ]
  },
  {
   "cell_type": "code",
   "execution_count": 4,
   "metadata": {},
   "outputs": [
    {
     "data": {
      "text/plain": [
       "{}"
      ]
     },
     "execution_count": 4,
     "metadata": {},
     "output_type": "execute_result"
    }
   ],
   "source": [
    "s.results"
   ]
  },
  {
   "cell_type": "code",
   "execution_count": 3,
   "metadata": {},
   "outputs": [],
   "source": [
    "df = pd.DataFrame.from_dict(s.results, orient='index')\n",
    "df.to_excel('../output/first_run.xlsx')"
   ]
  }
 ],
 "metadata": {
  "kernelspec": {
   "display_name": "Python 3",
   "language": "python",
   "name": "python3"
  },
  "language_info": {
   "codemirror_mode": {
    "name": "ipython",
    "version": 3
   },
   "file_extension": ".py",
   "mimetype": "text/x-python",
   "name": "python",
   "nbconvert_exporter": "python",
   "pygments_lexer": "ipython3",
   "version": "3.9.7"
  }
 },
 "nbformat": 4,
 "nbformat_minor": 2
}
